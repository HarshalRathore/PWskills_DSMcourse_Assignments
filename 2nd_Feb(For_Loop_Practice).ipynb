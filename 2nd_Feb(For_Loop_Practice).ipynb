{
 "cells": [
  {
   "cell_type": "markdown",
   "id": "6e3aa84c",
   "metadata": {},
   "source": [
    "### Q1. Explain with an example each when to use a for loop and a while loop.\n",
    "Some examples of when to use a for loop and a while loop:\n",
    "\n",
    "#### Use a for loop when you know the exact number of iterations needed:\n",
    "\n"
   ]
  },
  {
   "cell_type": "code",
   "execution_count": 26,
   "id": "68c68d34",
   "metadata": {},
   "outputs": [
    {
     "name": "stdout",
     "output_type": "stream",
     "text": [
      "1\n",
      "2\n",
      "3\n",
      "4\n",
      "5\n",
      "6\n",
      "7\n",
      "8\n",
      "9\n",
      "10\n"
     ]
    }
   ],
   "source": [
    "# Example no. 1\n",
    "# Printing numbers from 1 to 10 using for loop\n",
    "for i in range(1, 11):\n",
    "    print(i)"
   ]
  },
  {
   "cell_type": "markdown",
   "id": "f8874710",
   "metadata": {},
   "source": [
    "In this example, we are using a for loop because we know that we want to print the numbers from 1 to 10, which is a fixed number of iterations. Using a for loop with the range function allows us to iterate through the numbers from 1 to 10, and print each number in turn.\n",
    "\n",
    "#### Use a while loop when you don't know the exact number of iterations needed:"
   ]
  },
  {
   "cell_type": "code",
   "execution_count": 27,
   "id": "7fc69fb2",
   "metadata": {},
   "outputs": [
    {
     "name": "stdout",
     "output_type": "stream",
     "text": [
      "The sum of numbers is: 105\n",
      "The sum of numbers is: 105\n"
     ]
    }
   ],
   "source": [
    "# Example no.2\n",
    "# Calculating the sum of numbers until the sum is less than 100\n",
    "sum = 0\n",
    "num = 1\n",
    "\n",
    "while sum < 100:\n",
    "    sum += num\n",
    "    num += 1\n",
    "\n",
    "print(\"The sum of numbers is:\", sum)"
   ]
  },
  {
   "cell_type": "markdown",
   "id": "fe437986",
   "metadata": {},
   "source": [
    "In this example, we are using a while loop because we don't know the exact number of iterations we will need to perform. We want to calculate the sum of numbers until the sum is less than 100, which may take a variable number of iterations depending on the starting value. Using a while loop allows us to repeatedly perform the calculation until we reach the desired result.\n",
    "\n",
    "In general, you should use a for loop when you know the exact number of iterations needed, and a while loop when you need to perform an operation repeatedly until a certain condition is met. However, it's important to use your judgement and choose the loop type that makes the most sense for your specific problem."
   ]
  },
  {
   "cell_type": "markdown",
   "id": "9eca68f3",
   "metadata": {},
   "source": [
    "### Q2. Write a python program to print the sum and product of the first 10 natural numbers using for and while loop.\n",
    "\n",
    "Python programs to print the sum and product of the first 10 natural numbers using for and while loops:\n",
    "\n",
    "#### Using for loop:"
   ]
  },
  {
   "cell_type": "code",
   "execution_count": 28,
   "id": "4ce1f58c",
   "metadata": {},
   "outputs": [],
   "source": [
    "# Program to print sum and product of first 10 natural numbers using for loop\n",
    "\n",
    "# Calculate sum using for loop\n",
    "sum = 0\n",
    "for i in range(1, 11):\n",
    "    sum += i\n",
    "\n",
    "# Calculate product using for loop\n",
    "product = 1\n",
    "for i in range(1, 11):\n",
    "    product *= i\n",
    "\n",
    "# Print the sum and product\n",
    "print(\"Sum of first 10 natural numbers:\", sum)\n",
    "print(\"Product of first 10 natural numbers:\", product)"
   ]
  },
  {
   "cell_type": "markdown",
   "id": "ffb03847",
   "metadata": {},
   "source": [
    "#### Using while loop:"
   ]
  },
  {
   "cell_type": "code",
   "execution_count": 29,
   "id": "ce1a7241",
   "metadata": {},
   "outputs": [],
   "source": [
    "# Program to print sum and product of first 10 natural numbers using while loop\n",
    "\n",
    "# Calculate sum using while loop\n",
    "sum = 0\n",
    "i = 1\n",
    "while i <= 10:\n",
    "    sum += i\n",
    "    i += 1\n",
    "\n",
    "# Calculate product using while loop\n",
    "product = 1\n",
    "i = 1\n",
    "while i <= 10:\n",
    "    product *= i\n",
    "    i += 1\n",
    "\n",
    "# Print the sum and product\n",
    "print(\"Sum of first 10 natural numbers:\", sum)\n",
    "print(\"Product of first 10 natural numbers:\", product)\n"
   ]
  },
  {
   "cell_type": "markdown",
   "id": "c1241cd8",
   "metadata": {},
   "source": [
    "### Q3. Create a python program to compute the electricity bill for a household.\n",
    "### The per-unit charges in rupees are as follows: For the first 100 units, the user will be charged Rs. 4.5 per unit, for the next 100 units, the user will be charged Rs. 6 per unit, and for the next 100 units, the user will be charged Rs. 10 per unit, After 300 units and above the user will be charged Rs. 20 per unit.\n"
   ]
  },
  {
   "cell_type": "code",
   "execution_count": 30,
   "id": "ec18ee80",
   "metadata": {},
   "outputs": [
    {
     "name": "stdout",
     "output_type": "stream",
     "text": [
      "Enter the number of units consumed: 32\n"
     ]
    }
   ],
   "source": [
    "#Python program that computes the electricity bill for a household based on the per-unit charges provided:\n",
    "\n",
    "# Input the number of units consumed\n",
    "units = int(input(\"Enter the number of units consumed: \"))\n",
    "\n",
    "# Calculate the electricity bill based on the per-unit charges\n",
    "if units <= 100:\n",
    "    bill = units * 4.5\n",
    "elif units <= 200:\n",
    "    bill = 100 * 4.5 + (units - 100) * 6\n",
    "elif units <= 300:\n",
    "    bill = 100 * 4.5 + 100 * 6 + (units - 200) * 10\n",
    "else:\n",
    "    bill = 100 * 4.5 + 100 * 6 + 100 * 10 + (units - 300) * 20\n",
    "\n",
    "# Add additional charges if units consumed are above 300\n",
    "if units > 300:\n",
    "    bill += bill * 0.15\n",
    "\n",
    "# Print the electricity bill\n",
    "print(\"Electricity bill: Rs.\", bill)\n"
   ]
  },
  {
   "cell_type": "code",
   "execution_count": 31,
   "id": "ae075f7f",
   "metadata": {},
   "outputs": [],
   "source": [
    "# Create a list of numbers from 1 to 100\n",
    "numbers = list(range(1, 101))\n",
    "\n",
    "# Initialize a new list for numbers whose cubes are divisible by 4 or 5\n",
    "divisible_by_4_or_5 = []\n",
    "\n",
    "# Calculate the cube of each number using a for loop\n",
    "for num in numbers:\n",
    "    cube = num ** 3\n",
    "    if cube % 4 == 0 or cube % 5 == 0:\n",
    "        divisible_by_4_or_5.append(num)\n",
    "\n",
    "# Print the list of numbers whose cubes are divisible by 4 or 5\n",
    "print(\"Numbers whose cubes are divisible by 4 or 5:\", divisible_by_4_or_5)\n"
   ]
  },
  {
   "cell_type": "markdown",
   "id": "de5ca9c0",
   "metadata": {},
   "source": [
    "### Q4. Create a list of numbers from 1 to 100. Use for loop and while loop to calculate the cube of each number and if the cube of that number is divisible by 4 or 5 then append that number in a list and print that list.\n",
    "Python programs that creates a list of numbers from 1 to 100, calculates the cube of each number using a for loop and a while loop, and appends the number to a new list if its cube is divisible by 4 or 5:\n",
    "\n",
    "#### Using a for loop:"
   ]
  },
  {
   "cell_type": "code",
   "execution_count": 32,
   "id": "9590d162",
   "metadata": {},
   "outputs": [],
   "source": [
    "# Create a list of numbers from 1 to 100\n",
    "numbers = list(range(1, 101))\n",
    "\n",
    "# Initialize a new list for numbers whose cubes are divisible by 4 or 5\n",
    "divisible_by_4_or_5 = []\n",
    "\n",
    "# Calculate the cube of each number using a for loop\n",
    "for num in numbers:\n",
    "    cube = num ** 3\n",
    "    if cube % 4 == 0 or cube % 5 == 0:\n",
    "        divisible_by_4_or_5.append(num)\n",
    "\n",
    "# Print the list of numbers whose cubes are divisible by 4 or 5\n",
    "print(\"Numbers whose cubes are divisible by 4 or 5:\", divisible_by_4_or_5)\n"
   ]
  },
  {
   "cell_type": "markdown",
   "id": "a57f2250",
   "metadata": {},
   "source": [
    "#### Using a while loop:"
   ]
  },
  {
   "cell_type": "code",
   "execution_count": 33,
   "id": "e12222b6",
   "metadata": {},
   "outputs": [],
   "source": [
    "# Create a list of numbers from 1 to 100\n",
    "numbers = list(range(1, 101))\n",
    "\n",
    "# Initialize a new list for numbers whose cubes are divisible by 4 or 5\n",
    "divisible_by_4_or_5 = []\n",
    "\n",
    "# Calculate the cube of each number using a while loop\n",
    "i = 0\n",
    "while i < len(numbers):\n",
    "    cube = numbers[i] ** 3\n",
    "    if cube % 4 == 0 or cube % 5 == 0:\n",
    "        divisible_by_4_or_5.append(numbers[i])\n",
    "    i += 1\n",
    "\n",
    "# Print the list of numbers whose cubes are divisible by 4 or 5\n",
    "print(\"Numbers whose cubes are divisible by 4 or 5:\", divisible_by_4_or_5)\n"
   ]
  },
  {
   "cell_type": "markdown",
   "id": "dd9bf5df",
   "metadata": {},
   "source": [
    "### Q5. Write a program to filter count vowels in the below-given string. string = \"I want to become a data scientist\"\n",
    "Python program that counts the number of vowels in the given string and returns the count:"
   ]
  },
  {
   "cell_type": "code",
   "execution_count": 34,
   "id": "74cfbaa0",
   "metadata": {},
   "outputs": [],
   "source": [
    "string = \"I want to become a data scientist\"\n",
    "\n",
    "# Define a function to count vowels in a string\n",
    "def count_vowels(string):\n",
    "    # Define a list of vowels\n",
    "    vowels = ['a', 'e', 'i', 'o', 'u']\n",
    "    \n",
    "    # Initialize a counter for vowels\n",
    "    count = 0\n",
    "    \n",
    "    # Loop through each character in the string\n",
    "    for char in string:\n",
    "        # If the character is a vowel, increment the counter\n",
    "        if char.lower() in vowels:\n",
    "            count += 1\n",
    "    \n",
    "    # Return the count of vowels\n",
    "    return count\n",
    "\n",
    "# Call the function and print the result\n",
    "print(\"Number of vowels:\", count_vowels(string))\n"
   ]
  }
 ],
 "metadata": {
  "kernelspec": {
   "display_name": "Python 3 (ipykernel)",
   "language": "python",
   "name": "python3"
  },
  "language_info": {
   "codemirror_mode": {
    "name": "ipython",
    "version": 3
   },
   "file_extension": ".py",
   "mimetype": "text/x-python",
   "name": "python",
   "nbconvert_exporter": "python",
   "pygments_lexer": "ipython3",
   "version": "3.10.9"
  }
 },
 "nbformat": 4,
 "nbformat_minor": 5
}
