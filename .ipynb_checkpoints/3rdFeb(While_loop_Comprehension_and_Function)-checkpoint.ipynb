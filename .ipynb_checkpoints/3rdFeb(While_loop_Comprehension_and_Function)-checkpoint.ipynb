{
 "cells": [
  {
   "cell_type": "markdown",
   "id": "946b814f",
   "metadata": {},
   "source": [
    "## Q1. Which keyword is used to create a function? Create a function to return a list of odd numbers in the range of 1 to 25.\n",
    "In Python, the def keyword is used to define a function. Here's an example of how to create a function to return a list of odd numbers in the range of 1 to 25 using the def keyword:"
   ]
  },
  {
   "cell_type": "code",
   "execution_count": 21,
   "id": "3d56641e",
   "metadata": {},
   "outputs": [],
   "source": [
    "# Function to return a list of odd numbers in the range of 1 to 25\n",
    "def get_odd_numbers():\n",
    "    odd_numbers = []\n",
    "    for i in range(1, 26):\n",
    "        if i % 2 == 1:\n",
    "            odd_numbers.append(i)\n",
    "    return odd_numbers\n",
    "\n",
    "# Call the function and print the result\n",
    "print(get_odd_numbers())\n"
   ]
  },
  {
   "cell_type": "markdown",
   "id": "d44af2dc",
   "metadata": {},
   "source": [
    "## Q2. Why *args and **kwargs is used in some functions? Create a function each for *args and **kwargs to demonstrate their use.\n",
    "\n",
    "In Python, *args and **kwargs are special syntaxes used in function definitions to pass a variable number of arguments to a function.\n",
    "\n",
    "The *args syntax is used to pass a variable number of non-keyword arguments (i.e., positional arguments) to a function. The *args parameter collects all the positional arguments passed to the function as a tuple.\n",
    "\n",
    "The **kwargs syntax is used to pass a variable number of keyword arguments (i.e., named arguments) to a function. The **kwargs parameter collects all the keyword arguments passed to the function as a dictionary.\n",
    "\n",
    "Here are examples of how to use *args and **kwargs in functions:\n",
    "\n",
    "#### Using *args:"
   ]
  },
  {
   "cell_type": "code",
   "execution_count": 22,
   "id": "fd7f9bb5",
   "metadata": {},
   "outputs": [],
   "source": [
    "# Function to print a list of given arguments\n",
    "def print_args(*args):\n",
    "    for arg in args:\n",
    "        print(arg)\n",
    "\n",
    "# Call the function with multiple arguments\n",
    "print_args('apple', 'banana', 'cherry')\n"
   ]
  },
  {
   "cell_type": "markdown",
   "id": "e9437af5",
   "metadata": {},
   "source": [
    "#### Using **kwargs:"
   ]
  },
  {
   "cell_type": "code",
   "execution_count": 23,
   "id": "72744c0f",
   "metadata": {},
   "outputs": [],
   "source": [
    "# Function to print a dictionary of given keyword arguments\n",
    "def print_kwargs(**kwargs):\n",
    "    for key, value in kwargs.items():\n",
    "        print(key + ': ' + value)\n",
    "\n",
    "# Call the function with multiple keyword arguments\n",
    "print_kwargs(name='John', age='30', country='USA')\n"
   ]
  },
  {
   "cell_type": "markdown",
   "id": "a29f2a9e",
   "metadata": {},
   "source": [
    "## Q3. What is an iterator in python? Name the method used to initialise the iterator object and the method used for iteration. Use these methods to print the first five elements of the given list [2, 4, 6, 8, 10, 12, 14, 16, 18, 20].\n",
    "In Python, an iterator is an object that allows us to traverse through the elements of a collection (such as a list, tuple, or dictionary) one by one. The iterator object provides two methods - __iter__() and __next__() - that are used to initialize the iterator and to retrieve the next element from the collection, respectively.\n",
    "\n",
    "The __iter__() method is used to initialize the iterator object. It returns the iterator object itself.\n",
    "\n",
    "The __next__() method is used for iteration. It retrieves the next element from the collection and raises the StopIteration exception when there are no more elements to iterate over."
   ]
  },
  {
   "cell_type": "code",
   "execution_count": 24,
   "id": "876e30b8",
   "metadata": {},
   "outputs": [],
   "source": [
    "# Define the list\n",
    "my_list = [2, 4, 6, 8, 10, 12, 14, 16, 18, 20]\n",
    "\n",
    "# Create an iterator object\n",
    "my_iterator = iter(my_list)\n",
    "\n",
    "# Iterate through the first five elements\n",
    "for i in range(5):\n",
    "    print(next(my_iterator))\n"
   ]
  },
  {
   "cell_type": "markdown",
   "id": "08a6967b",
   "metadata": {},
   "source": [
    "## Q4. What is a generator function in python? Why yield keyword is used? Give an example of a generator function.\n",
    "In Python, a generator function is a special type of function that uses the yield keyword to return an iterable generator object. Instead of returning a single value like a normal function, a generator function yields a sequence of values that can be iterated over using a for loop or the next() function.\n",
    "\n",
    "The yield keyword is used to temporarily suspend the execution of the function and return a value to the caller. When the function is called again, it resumes from where it left off and continues executing until it reaches the next yield statement.\n",
    "\n",
    "The advantage of using a generator function over a regular function is that it allows us to generate an arbitrarily long sequence of values without having to store the entire sequence in memory at once. This makes generator functions useful for generating large datasets, especially when the sequence of values is too large to fit in memory.\n",
    "\n",
    "Here's an example of a generator function that generates a sequence of Fibonacci numbers:"
   ]
  },
  {
   "cell_type": "code",
   "execution_count": 25,
   "id": "5c311546",
   "metadata": {},
   "outputs": [],
   "source": [
    "def fibonacci():\n",
    "    a, b = 0, 1\n",
    "    while True:\n",
    "        yield a\n",
    "        a, b = b, a + b\n"
   ]
  },
  {
   "cell_type": "markdown",
   "id": "818e1c1e",
   "metadata": {},
   "source": [
    "In this example, we define a generator function called fibonacci that generates a sequence of Fibonacci numbers. Inside the function, we use a while loop to generate each Fibonacci number in the sequence. We use the yield keyword to return each number to the caller, which suspends the function's execution until the next number is requested.\n",
    "\n",
    "We can then use the generator function in a for loop to generate and print the first 10 Fibonacci numbers:"
   ]
  },
  {
   "cell_type": "code",
   "execution_count": 26,
   "id": "763f0ccc",
   "metadata": {},
   "outputs": [],
   "source": [
    "for num in fibonacci():\n",
    "    if num > 55:\n",
    "        break\n",
    "    print(num)\n"
   ]
  },
  {
   "cell_type": "markdown",
   "id": "bf432e32",
   "metadata": {},
   "source": [
    "In this example, we use a for loop to iterate over the generator function fibonacci() and print each number in the sequence until we reach the number 55."
   ]
  },
  {
   "cell_type": "markdown",
   "id": "945df571",
   "metadata": {},
   "source": [
    "## Q5. Create a generator function for prime numbers less than 1000. Use the next() method to print the first 20 prime numbers.\n"
   ]
  },
  {
   "cell_type": "code",
   "execution_count": 27,
   "id": "df8c56f9",
   "metadata": {},
   "outputs": [],
   "source": [
    "def primes():\n",
    "    num = 2\n",
    "    while True:\n",
    "        for i in range(2, num):\n",
    "            if num % i == 0:\n",
    "                break\n",
    "        else:\n",
    "            yield num\n",
    "        num += 1\n",
    "\n",
    "# Use the next() method to print the first 20 prime numbers\n",
    "prime_generator = primes()\n",
    "for i in range(20):\n",
    "    print(next(prime_generator))\n"
   ]
  },
  {
   "cell_type": "markdown",
   "id": "06712495",
   "metadata": {},
   "source": [
    "In this example, we define a generator function called primes that generates prime numbers less than 1000. Inside the function, we use a while loop to generate each prime number in the sequence. We use a nested for loop to test if each number is divisible by any number between 2 and the number itself. If the number is not divisible by any of these numbers, it is a prime number and we yield it to the caller using the yield keyword.\n",
    "\n",
    "We then create a generator object called prime_generator by calling the primes() function. Finally, we use a for loop and the next() method to print the first 20 prime numbers generated by the prime_generator object."
   ]
  },
  {
   "cell_type": "markdown",
   "id": "4d17bd2e",
   "metadata": {},
   "source": [
    "## Q6. Write a python program to print the first 10 Fibonacci numbers using a while loop.\n"
   ]
  },
  {
   "cell_type": "code",
   "execution_count": 28,
   "id": "2a8c4eb1",
   "metadata": {},
   "outputs": [],
   "source": [
    "# Initialize variables for the first two Fibonacci numbers\n",
    "a, b = 0, 1\n",
    "count = 0\n",
    "\n",
    "# Use a while loop to generate the first 10 Fibonacci numbers\n",
    "while count < 10:\n",
    "    print(a)\n",
    "    a, b = b, a + b\n",
    "    count += 1\n"
   ]
  },
  {
   "cell_type": "markdown",
   "id": "efc06a82",
   "metadata": {},
   "source": [
    "In this example, we use two variables a and b to store the first two Fibonacci numbers (0 and 1). We also use a variable count to keep track of how many Fibonacci numbers we've generated so far.\n",
    "\n",
    "We then use a while loop to generate the first 10 Fibonacci numbers. Inside the loop, we print the current Fibonacci number (a), update the values of a and b to generate the next Fibonacci number, and increment the count variable."
   ]
  },
  {
   "cell_type": "markdown",
   "id": "e1a7d0f7",
   "metadata": {},
   "source": [
    "## Q7. Write a List Comprehension to iterate through the given string: ‘pwskills’. Expected output: ['p', 'w', 's', 'k', 'i', 'l', 'l', 's']\n"
   ]
  },
  {
   "cell_type": "code",
   "execution_count": 29,
   "id": "4a627bdd",
   "metadata": {},
   "outputs": [],
   "source": [
    "# Define the input string\n",
    "input_str = 'pwskills'\n",
    "\n",
    "# Use a list comprehension to extract specific characters from the input string\n",
    "output_list = [char for char in input_str if char in ['p', 'w', 's', 'k', 'i', 'l']]\n",
    "\n",
    "# Print the output list\n",
    "print(output_list)\n"
   ]
  },
  {
   "cell_type": "markdown",
   "id": "0d5bed1f",
   "metadata": {},
   "source": [
    "## Q8. Write a python program to check whether a given number is Palindrome or not using a while loop.\n"
   ]
  },
  {
   "cell_type": "code",
   "execution_count": 32,
   "id": "10f60013",
   "metadata": {},
   "outputs": [
    {
     "name": "stdout",
     "output_type": "stream",
     "text": [
      "Enter a number: 234\n"
     ]
    }
   ],
   "source": [
    "# Accept input from user\n",
    "num = int(input(\"Enter a number: \"))\n",
    "\n",
    "# Initialize variables\n",
    "temp = num\n",
    "reverse_num = 0\n",
    "\n",
    "# Use a while loop to reverse the number\n",
    "while temp > 0:\n",
    "    remainder = temp % 10\n",
    "    reverse_num = (reverse_num * 10) + remainder\n",
    "    temp //= 10\n",
    "\n",
    "# Check if the original number is equal to its reverse\n",
    "if num == reverse_num:\n",
    "    print(f\"{num} is a palindrome.\")\n",
    "else:\n",
    "    print(f\"{num} is not a palindrome.\")\n"
   ]
  },
  {
   "cell_type": "markdown",
   "id": "979be6c6",
   "metadata": {},
   "source": [
    "## Q9. Write a code to print odd numbers from 1 to 100 using list comprehension.\n",
    "Note: Use a list comprehension to create a list from 1 to 100 and use another List comprehension to filter\n",
    "out odd numbers."
   ]
  },
  {
   "cell_type": "code",
   "execution_count": 19,
   "id": "eb106a2d",
   "metadata": {},
   "outputs": [],
   "source": [
    "# Use a list comprehension to create a list from 1 to 100\n",
    "nums = [num for num in range(1, 101)]\n",
    "\n",
    "# Use another list comprehension to filter out odd numbers\n",
    "odd_nums = [num for num in nums if num % 2 != 0]\n",
    "\n",
    "# Print the odd numbers\n",
    "print(odd_nums)\n"
   ]
  }
 ],
 "metadata": {
  "kernelspec": {
   "display_name": "Python 3 (ipykernel)",
   "language": "python",
   "name": "python3"
  },
  "language_info": {
   "codemirror_mode": {
    "name": "ipython",
    "version": 3
   },
   "file_extension": ".py",
   "mimetype": "text/x-python",
   "name": "python",
   "nbconvert_exporter": "python",
   "pygments_lexer": "ipython3",
   "version": "3.10.9"
  }
 },
 "nbformat": 4,
 "nbformat_minor": 5
}
